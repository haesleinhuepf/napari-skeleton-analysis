{
 "cells": [
  {
   "cell_type": "code",
   "execution_count": 1,
   "id": "edb51709-a86b-48e7-9e1b-1713e6069e07",
   "metadata": {},
   "outputs": [],
   "source": [
    "import numpy as np\n",
    "from skimage.io import imshow\n",
    "from napari_skeleton_analysis import skeletonize, branch_statistics, skeleton_image, path_label_image, path_length_image, branch_lines, branch_type_lines, degree_image"
   ]
  },
  {
   "cell_type": "code",
   "execution_count": 2,
   "id": "1284f858-819f-47aa-9527-d5c89db1e609",
   "metadata": {},
   "outputs": [],
   "source": [
    "image = np.asarray([\n",
    "  [0,0,0,1,0,0,0,1,0],\n",
    "  [1,1,1,1,1,1,1,1,0],\n",
    "  [0,0,1,0,1,0,0,1,0],\n",
    "  [0,0,1,0,1,1,1,1,1],\n",
    "  [0,0,0,0,1,0,0,1,0],\n",
    "  [0,0,0,0,0,0,1,1,1],\n",
    "  [1,1,0,0,0,0,0,1,0],\n",
    "  [0,0,0,1,1,1,1,1,0],\n",
    "])"
   ]
  },
  {
   "cell_type": "code",
   "execution_count": 3,
   "id": "a49b38dc-4df0-4293-a771-8a2e0582c451",
   "metadata": {},
   "outputs": [
    {
     "name": "stderr",
     "output_type": "stream",
     "text": [
      "C:\\Users\\rober\\miniconda3\\envs\\bio_39\\lib\\site-packages\\skimage\\io\\_plugins\\matplotlib_plugin.py:150: UserWarning: Low image data range; displaying image with stretched contrast.\n",
      "  lo, hi, cmap = _get_display_range(image)\n"
     ]
    },
    {
     "data": {
      "text/plain": [
       "<matplotlib.image.AxesImage at 0x1beb9818f70>"
      ]
     },
     "execution_count": 3,
     "metadata": {},
     "output_type": "execute_result"
    },
    {
     "data": {
      "image/png": "[encoded data removed]",
      "text/plain": [
       "<Figure size 432x288 with 2 Axes>"
      ]
     },
     "metadata": {
      "needs_background": "light"
     },
     "output_type": "display_data"
    }
   ],
   "source": [
    "imshow(image)"
   ]
  },
  {
   "cell_type": "code",
   "execution_count": 4,
   "id": "107db876-0b54-4720-bbdd-96697852da6d",
   "metadata": {},
   "outputs": [
    {
     "name": "stderr",
     "output_type": "stream",
     "text": [
      "C:\\Users\\rober\\miniconda3\\envs\\bio_39\\lib\\site-packages\\skimage\\io\\_plugins\\matplotlib_plugin.py:150: UserWarning: Low image data range; displaying image with stretched contrast.\n",
      "  lo, hi, cmap = _get_display_range(image)\n"
     ]
    },
    {
     "data": {
      "text/plain": [
       "<matplotlib.image.AxesImage at 0x1bebc2b4610>"
      ]
     },
     "execution_count": 4,
     "metadata": {},
     "output_type": "execute_result"
    },
    {
     "data": {
      "image/png": "[encoded data removed]",
      "text/plain": [
       "<Figure size 432x288 with 2 Axes>"
      ]
     },
     "metadata": {
      "needs_background": "light"
     },
     "output_type": "display_data"
    }
   ],
   "source": [
    "imshow(skeleton_image(image))"
   ]
  },
  {
   "cell_type": "code",
   "execution_count": 5,
   "id": "64fbb0eb-51da-4d3e-85bb-230245cbd7db",
   "metadata": {},
   "outputs": [
    {
     "data": {
      "text/plain": [
       "<matplotlib.image.AxesImage at 0x1bebc55dcd0>"
      ]
     },
     "execution_count": 5,
     "metadata": {},
     "output_type": "execute_result"
    },
    {
     "data": {
      "image/png": "[encoded data removed]",
      "text/plain": [
       "<Figure size 432x288 with 2 Axes>"
      ]
     },
     "metadata": {
      "needs_background": "light"
     },
     "output_type": "display_data"
    }
   ],
   "source": [
    "path_image = path_label_image(image)\n",
    "imshow(path_image)"
   ]
  },
  {
   "cell_type": "code",
   "execution_count": 6,
   "id": "7e923b23-254c-4204-9779-c9d06b468a44",
   "metadata": {},
   "outputs": [
    {
     "data": {
      "text/plain": [
       "<matplotlib.image.AxesImage at 0x1bebc6229a0>"
      ]
     },
     "execution_count": 6,
     "metadata": {},
     "output_type": "execute_result"
    },
    {
     "data": {
      "image/png": "[encoded data removed]",
      "text/plain": [
       "<Figure size 432x288 with 2 Axes>"
      ]
     },
     "metadata": {
      "needs_background": "light"
     },
     "output_type": "display_data"
    }
   ],
   "source": [
    "imshow(degree_image(image))"
   ]
  },
  {
   "cell_type": "code",
   "execution_count": 7,
   "id": "d18644ac-e9bf-4f54-996e-447d47d5ba57",
   "metadata": {},
   "outputs": [
    {
     "data": {
      "text/html": [
       "<div>\n",
       "<style scoped>\n",
       "    .dataframe tbody tr th:only-of-type {\n",
       "        vertical-align: middle;\n",
       "    }\n",
       "\n",
       "    .dataframe tbody tr th {\n",
       "        vertical-align: top;\n",
       "    }\n",
       "\n",
       "    .dataframe thead th {\n",
       "        text-align: right;\n",
       "    }\n",
       "</style>\n",
       "<table border=\"1\" class=\"dataframe\">\n",
       "  <thead>\n",
       "    <tr style=\"text-align: right;\">\n",
       "      <th></th>\n",
       "      <th>skeleton-id</th>\n",
       "      <th>node-id-src</th>\n",
       "      <th>node-id-dst</th>\n",
       "      <th>branch-distance</th>\n",
       "      <th>branch-type</th>\n",
       "      <th>mean-pixel-value</th>\n",
       "      <th>stdev-pixel-value</th>\n",
       "      <th>image-coord-src-0</th>\n",
       "      <th>image-coord-src-1</th>\n",
       "      <th>image-coord-dst-0</th>\n",
       "      <th>image-coord-dst-1</th>\n",
       "      <th>coord-src-0</th>\n",
       "      <th>coord-src-1</th>\n",
       "      <th>coord-dst-0</th>\n",
       "      <th>coord-dst-1</th>\n",
       "      <th>euclidean-distance</th>\n",
       "    </tr>\n",
       "  </thead>\n",
       "  <tbody>\n",
       "    <tr>\n",
       "      <th>0</th>\n",
       "      <td>1</td>\n",
       "      <td>1</td>\n",
       "      <td>6</td>\n",
       "      <td>1.000000</td>\n",
       "      <td>1</td>\n",
       "      <td>1.0</td>\n",
       "      <td>0.0</td>\n",
       "      <td>0.0</td>\n",
       "      <td>3.0</td>\n",
       "      <td>1.0</td>\n",
       "      <td>3.0</td>\n",
       "      <td>0.0</td>\n",
       "      <td>3.0</td>\n",
       "      <td>1.0</td>\n",
       "      <td>3.0</td>\n",
       "      <td>1.000000</td>\n",
       "    </tr>\n",
       "    <tr>\n",
       "      <th>1</th>\n",
       "      <td>1</td>\n",
       "      <td>3</td>\n",
       "      <td>5</td>\n",
       "      <td>2.000000</td>\n",
       "      <td>1</td>\n",
       "      <td>1.0</td>\n",
       "      <td>0.0</td>\n",
       "      <td>1.0</td>\n",
       "      <td>0.0</td>\n",
       "      <td>1.0</td>\n",
       "      <td>2.0</td>\n",
       "      <td>1.0</td>\n",
       "      <td>0.0</td>\n",
       "      <td>1.0</td>\n",
       "      <td>2.0</td>\n",
       "      <td>2.000000</td>\n",
       "    </tr>\n",
       "    <tr>\n",
       "      <th>2</th>\n",
       "      <td>1</td>\n",
       "      <td>5</td>\n",
       "      <td>14</td>\n",
       "      <td>2.000000</td>\n",
       "      <td>1</td>\n",
       "      <td>1.0</td>\n",
       "      <td>0.0</td>\n",
       "      <td>1.0</td>\n",
       "      <td>2.0</td>\n",
       "      <td>3.0</td>\n",
       "      <td>2.0</td>\n",
       "      <td>1.0</td>\n",
       "      <td>2.0</td>\n",
       "      <td>3.0</td>\n",
       "      <td>2.0</td>\n",
       "      <td>2.000000</td>\n",
       "    </tr>\n",
       "    <tr>\n",
       "      <th>3</th>\n",
       "      <td>1</td>\n",
       "      <td>6</td>\n",
       "      <td>15</td>\n",
       "      <td>3.000000</td>\n",
       "      <td>2</td>\n",
       "      <td>1.0</td>\n",
       "      <td>0.0</td>\n",
       "      <td>1.0</td>\n",
       "      <td>3.0</td>\n",
       "      <td>3.0</td>\n",
       "      <td>4.0</td>\n",
       "      <td>1.0</td>\n",
       "      <td>3.0</td>\n",
       "      <td>3.0</td>\n",
       "      <td>4.0</td>\n",
       "      <td>2.236068</td>\n",
       "    </tr>\n",
       "    <tr>\n",
       "      <th>4</th>\n",
       "      <td>1</td>\n",
       "      <td>8</td>\n",
       "      <td>9</td>\n",
       "      <td>1.000000</td>\n",
       "      <td>1</td>\n",
       "      <td>1.0</td>\n",
       "      <td>0.0</td>\n",
       "      <td>1.0</td>\n",
       "      <td>5.0</td>\n",
       "      <td>1.0</td>\n",
       "      <td>6.0</td>\n",
       "      <td>1.0</td>\n",
       "      <td>5.0</td>\n",
       "      <td>1.0</td>\n",
       "      <td>6.0</td>\n",
       "      <td>1.000000</td>\n",
       "    </tr>\n",
       "    <tr>\n",
       "      <th>5</th>\n",
       "      <td>1</td>\n",
       "      <td>9</td>\n",
       "      <td>10</td>\n",
       "      <td>2.414214</td>\n",
       "      <td>2</td>\n",
       "      <td>1.0</td>\n",
       "      <td>0.0</td>\n",
       "      <td>1.0</td>\n",
       "      <td>6.0</td>\n",
       "      <td>1.0</td>\n",
       "      <td>7.0</td>\n",
       "      <td>1.0</td>\n",
       "      <td>6.0</td>\n",
       "      <td>1.0</td>\n",
       "      <td>7.0</td>\n",
       "      <td>1.000000</td>\n",
       "    </tr>\n",
       "    <tr>\n",
       "      <th>6</th>\n",
       "      <td>1</td>\n",
       "      <td>10</td>\n",
       "      <td>18</td>\n",
       "      <td>2.000000</td>\n",
       "      <td>2</td>\n",
       "      <td>1.0</td>\n",
       "      <td>0.0</td>\n",
       "      <td>1.0</td>\n",
       "      <td>7.0</td>\n",
       "      <td>3.0</td>\n",
       "      <td>7.0</td>\n",
       "      <td>1.0</td>\n",
       "      <td>7.0</td>\n",
       "      <td>3.0</td>\n",
       "      <td>7.0</td>\n",
       "      <td>2.000000</td>\n",
       "    </tr>\n",
       "    <tr>\n",
       "      <th>7</th>\n",
       "      <td>1</td>\n",
       "      <td>15</td>\n",
       "      <td>16</td>\n",
       "      <td>1.000000</td>\n",
       "      <td>2</td>\n",
       "      <td>1.0</td>\n",
       "      <td>0.0</td>\n",
       "      <td>3.0</td>\n",
       "      <td>4.0</td>\n",
       "      <td>3.0</td>\n",
       "      <td>5.0</td>\n",
       "      <td>3.0</td>\n",
       "      <td>4.0</td>\n",
       "      <td>3.0</td>\n",
       "      <td>5.0</td>\n",
       "      <td>1.000000</td>\n",
       "    </tr>\n",
       "    <tr>\n",
       "      <th>8</th>\n",
       "      <td>1</td>\n",
       "      <td>15</td>\n",
       "      <td>16</td>\n",
       "      <td>2.414214</td>\n",
       "      <td>2</td>\n",
       "      <td>1.0</td>\n",
       "      <td>0.0</td>\n",
       "      <td>3.0</td>\n",
       "      <td>4.0</td>\n",
       "      <td>3.0</td>\n",
       "      <td>5.0</td>\n",
       "      <td>3.0</td>\n",
       "      <td>4.0</td>\n",
       "      <td>3.0</td>\n",
       "      <td>5.0</td>\n",
       "      <td>1.000000</td>\n",
       "    </tr>\n",
       "    <tr>\n",
       "      <th>9</th>\n",
       "      <td>1</td>\n",
       "      <td>16</td>\n",
       "      <td>18</td>\n",
       "      <td>2.000000</td>\n",
       "      <td>2</td>\n",
       "      <td>1.0</td>\n",
       "      <td>0.0</td>\n",
       "      <td>3.0</td>\n",
       "      <td>5.0</td>\n",
       "      <td>3.0</td>\n",
       "      <td>7.0</td>\n",
       "      <td>3.0</td>\n",
       "      <td>5.0</td>\n",
       "      <td>3.0</td>\n",
       "      <td>7.0</td>\n",
       "      <td>2.000000</td>\n",
       "    </tr>\n",
       "    <tr>\n",
       "      <th>10</th>\n",
       "      <td>1</td>\n",
       "      <td>18</td>\n",
       "      <td>19</td>\n",
       "      <td>1.000000</td>\n",
       "      <td>1</td>\n",
       "      <td>1.0</td>\n",
       "      <td>0.0</td>\n",
       "      <td>3.0</td>\n",
       "      <td>7.0</td>\n",
       "      <td>3.0</td>\n",
       "      <td>8.0</td>\n",
       "      <td>3.0</td>\n",
       "      <td>7.0</td>\n",
       "      <td>3.0</td>\n",
       "      <td>8.0</td>\n",
       "      <td>1.000000</td>\n",
       "    </tr>\n",
       "    <tr>\n",
       "      <th>11</th>\n",
       "      <td>1</td>\n",
       "      <td>18</td>\n",
       "      <td>23</td>\n",
       "      <td>2.000000</td>\n",
       "      <td>2</td>\n",
       "      <td>1.0</td>\n",
       "      <td>0.0</td>\n",
       "      <td>3.0</td>\n",
       "      <td>7.0</td>\n",
       "      <td>5.0</td>\n",
       "      <td>7.0</td>\n",
       "      <td>3.0</td>\n",
       "      <td>7.0</td>\n",
       "      <td>5.0</td>\n",
       "      <td>7.0</td>\n",
       "      <td>2.000000</td>\n",
       "    </tr>\n",
       "    <tr>\n",
       "      <th>12</th>\n",
       "      <td>1</td>\n",
       "      <td>23</td>\n",
       "      <td>22</td>\n",
       "      <td>1.000000</td>\n",
       "      <td>1</td>\n",
       "      <td>1.0</td>\n",
       "      <td>0.0</td>\n",
       "      <td>5.0</td>\n",
       "      <td>7.0</td>\n",
       "      <td>5.0</td>\n",
       "      <td>6.0</td>\n",
       "      <td>5.0</td>\n",
       "      <td>7.0</td>\n",
       "      <td>5.0</td>\n",
       "      <td>6.0</td>\n",
       "      <td>1.000000</td>\n",
       "    </tr>\n",
       "    <tr>\n",
       "      <th>13</th>\n",
       "      <td>1</td>\n",
       "      <td>23</td>\n",
       "      <td>24</td>\n",
       "      <td>1.000000</td>\n",
       "      <td>1</td>\n",
       "      <td>1.0</td>\n",
       "      <td>0.0</td>\n",
       "      <td>5.0</td>\n",
       "      <td>7.0</td>\n",
       "      <td>5.0</td>\n",
       "      <td>8.0</td>\n",
       "      <td>5.0</td>\n",
       "      <td>7.0</td>\n",
       "      <td>5.0</td>\n",
       "      <td>8.0</td>\n",
       "      <td>1.000000</td>\n",
       "    </tr>\n",
       "    <tr>\n",
       "      <th>14</th>\n",
       "      <td>1</td>\n",
       "      <td>23</td>\n",
       "      <td>27</td>\n",
       "      <td>1.000000</td>\n",
       "      <td>2</td>\n",
       "      <td>1.0</td>\n",
       "      <td>0.0</td>\n",
       "      <td>5.0</td>\n",
       "      <td>7.0</td>\n",
       "      <td>6.0</td>\n",
       "      <td>7.0</td>\n",
       "      <td>5.0</td>\n",
       "      <td>7.0</td>\n",
       "      <td>6.0</td>\n",
       "      <td>7.0</td>\n",
       "      <td>1.000000</td>\n",
       "    </tr>\n",
       "    <tr>\n",
       "      <th>15</th>\n",
       "      <td>2</td>\n",
       "      <td>25</td>\n",
       "      <td>26</td>\n",
       "      <td>1.000000</td>\n",
       "      <td>0</td>\n",
       "      <td>1.0</td>\n",
       "      <td>0.0</td>\n",
       "      <td>6.0</td>\n",
       "      <td>0.0</td>\n",
       "      <td>6.0</td>\n",
       "      <td>1.0</td>\n",
       "      <td>6.0</td>\n",
       "      <td>0.0</td>\n",
       "      <td>6.0</td>\n",
       "      <td>1.0</td>\n",
       "      <td>1.000000</td>\n",
       "    </tr>\n",
       "    <tr>\n",
       "      <th>16</th>\n",
       "      <td>1</td>\n",
       "      <td>27</td>\n",
       "      <td>31</td>\n",
       "      <td>1.414214</td>\n",
       "      <td>2</td>\n",
       "      <td>1.0</td>\n",
       "      <td>0.0</td>\n",
       "      <td>6.0</td>\n",
       "      <td>7.0</td>\n",
       "      <td>7.0</td>\n",
       "      <td>6.0</td>\n",
       "      <td>6.0</td>\n",
       "      <td>7.0</td>\n",
       "      <td>7.0</td>\n",
       "      <td>6.0</td>\n",
       "      <td>1.414214</td>\n",
       "    </tr>\n",
       "    <tr>\n",
       "      <th>17</th>\n",
       "      <td>1</td>\n",
       "      <td>27</td>\n",
       "      <td>31</td>\n",
       "      <td>2.000000</td>\n",
       "      <td>2</td>\n",
       "      <td>1.0</td>\n",
       "      <td>0.0</td>\n",
       "      <td>6.0</td>\n",
       "      <td>7.0</td>\n",
       "      <td>7.0</td>\n",
       "      <td>6.0</td>\n",
       "      <td>6.0</td>\n",
       "      <td>7.0</td>\n",
       "      <td>7.0</td>\n",
       "      <td>6.0</td>\n",
       "      <td>1.414214</td>\n",
       "    </tr>\n",
       "    <tr>\n",
       "      <th>18</th>\n",
       "      <td>1</td>\n",
       "      <td>28</td>\n",
       "      <td>31</td>\n",
       "      <td>3.000000</td>\n",
       "      <td>1</td>\n",
       "      <td>1.0</td>\n",
       "      <td>0.0</td>\n",
       "      <td>7.0</td>\n",
       "      <td>3.0</td>\n",
       "      <td>7.0</td>\n",
       "      <td>6.0</td>\n",
       "      <td>7.0</td>\n",
       "      <td>3.0</td>\n",
       "      <td>7.0</td>\n",
       "      <td>6.0</td>\n",
       "      <td>3.000000</td>\n",
       "    </tr>\n",
       "  </tbody>\n",
       "</table>\n",
       "</div>"
      ],
      "text/plain": [
       "    skeleton-id  node-id-src  node-id-dst  branch-distance  branch-type  \\\n",
       "0             1            1            6         1.000000            1   \n",
       "1             1            3            5         2.000000            1   \n",
       "2             1            5           14         2.000000            1   \n",
       "3             1            6           15         3.000000            2   \n",
       "4             1            8            9         1.000000            1   \n",
       "5             1            9           10         2.414214            2   \n",
       "6             1           10           18         2.000000            2   \n",
       "7             1           15           16         1.000000            2   \n",
       "8             1           15           16         2.414214            2   \n",
       "9             1           16           18         2.000000            2   \n",
       "10            1           18           19         1.000000            1   \n",
       "11            1           18           23         2.000000            2   \n",
       "12            1           23           22         1.000000            1   \n",
       "13            1           23           24         1.000000            1   \n",
       "14            1           23           27         1.000000            2   \n",
       "15            2           25           26         1.000000            0   \n",
       "16            1           27           31         1.414214            2   \n",
       "17            1           27           31         2.000000            2   \n",
       "18            1           28           31         3.000000            1   \n",
       "\n",
       "    mean-pixel-value  stdev-pixel-value  image-coord-src-0  image-coord-src-1  \\\n",
       "0                1.0                0.0                0.0                3.0   \n",
       "1                1.0                0.0                1.0                0.0   \n",
       "2                1.0                0.0                1.0                2.0   \n",
       "3                1.0                0.0                1.0                3.0   \n",
       "4                1.0                0.0                1.0                5.0   \n",
       "5                1.0                0.0                1.0                6.0   \n",
       "6                1.0                0.0                1.0                7.0   \n",
       "7                1.0                0.0                3.0                4.0   \n",
       "8                1.0                0.0                3.0                4.0   \n",
       "9                1.0                0.0                3.0                5.0   \n",
       "10               1.0                0.0                3.0                7.0   \n",
       "11               1.0                0.0                3.0                7.0   \n",
       "12               1.0                0.0                5.0                7.0   \n",
       "13               1.0                0.0                5.0                7.0   \n",
       "14               1.0                0.0                5.0                7.0   \n",
       "15               1.0                0.0                6.0                0.0   \n",
       "16               1.0                0.0                6.0                7.0   \n",
       "17               1.0                0.0                6.0                7.0   \n",
       "18               1.0                0.0                7.0                3.0   \n",
       "\n",
       "    image-coord-dst-0  image-coord-dst-1  coord-src-0  coord-src-1  \\\n",
       "0                 1.0                3.0          0.0          3.0   \n",
       "1                 1.0                2.0          1.0          0.0   \n",
       "2                 3.0                2.0          1.0          2.0   \n",
       "3                 3.0                4.0          1.0          3.0   \n",
       "4                 1.0                6.0          1.0          5.0   \n",
       "5                 1.0                7.0          1.0          6.0   \n",
       "6                 3.0                7.0          1.0          7.0   \n",
       "7                 3.0                5.0          3.0          4.0   \n",
       "8                 3.0                5.0          3.0          4.0   \n",
       "9                 3.0                7.0          3.0          5.0   \n",
       "10                3.0                8.0          3.0          7.0   \n",
       "11                5.0                7.0          3.0          7.0   \n",
       "12                5.0                6.0          5.0          7.0   \n",
       "13                5.0                8.0          5.0          7.0   \n",
       "14                6.0                7.0          5.0          7.0   \n",
       "15                6.0                1.0          6.0          0.0   \n",
       "16                7.0                6.0          6.0          7.0   \n",
       "17                7.0                6.0          6.0          7.0   \n",
       "18                7.0                6.0          7.0          3.0   \n",
       "\n",
       "    coord-dst-0  coord-dst-1  euclidean-distance  \n",
       "0           1.0          3.0            1.000000  \n",
       "1           1.0          2.0            2.000000  \n",
       "2           3.0          2.0            2.000000  \n",
       "3           3.0          4.0            2.236068  \n",
       "4           1.0          6.0            1.000000  \n",
       "5           1.0          7.0            1.000000  \n",
       "6           3.0          7.0            2.000000  \n",
       "7           3.0          5.0            1.000000  \n",
       "8           3.0          5.0            1.000000  \n",
       "9           3.0          7.0            2.000000  \n",
       "10          3.0          8.0            1.000000  \n",
       "11          5.0          7.0            2.000000  \n",
       "12          5.0          6.0            1.000000  \n",
       "13          5.0          8.0            1.000000  \n",
       "14          6.0          7.0            1.000000  \n",
       "15          6.0          1.0            1.000000  \n",
       "16          7.0          6.0            1.414214  \n",
       "17          7.0          6.0            1.414214  \n",
       "18          7.0          6.0            3.000000  "
      ]
     },
     "execution_count": 7,
     "metadata": {},
     "output_type": "execute_result"
    }
   ],
   "source": [
    "stats = branch_statistics(image)\n",
    "stats"
   ]
  },
  {
   "cell_type": "code",
   "execution_count": 8,
   "id": "99ff2284-73fa-4366-9be9-735150646f42",
   "metadata": {},
   "outputs": [
    {
     "data": {
      "text/plain": [
       "\u001b[1;31mSignature:\u001b[0m \u001b[0mskan\u001b[0m\u001b[1;33m.\u001b[0m\u001b[0msummary_utils\u001b[0m\u001b[1;33m.\u001b[0m\u001b[0mfind_main_branches\u001b[0m\u001b[1;33m(\u001b[0m\u001b[0msummary\u001b[0m\u001b[1;33m:\u001b[0m \u001b[0mpandas\u001b[0m\u001b[1;33m.\u001b[0m\u001b[0mcore\u001b[0m\u001b[1;33m.\u001b[0m\u001b[0mframe\u001b[0m\u001b[1;33m.\u001b[0m\u001b[0mDataFrame\u001b[0m\u001b[1;33m)\u001b[0m \u001b[1;33m->\u001b[0m \u001b[0mnumpy\u001b[0m\u001b[1;33m.\u001b[0m\u001b[0mndarray\u001b[0m\u001b[1;33m\u001b[0m\u001b[1;33m\u001b[0m\u001b[0m\n",
       "\u001b[1;31mDocstring:\u001b[0m\n",
       "Predict the extent of branching.\n",
       "\n",
       "Parameters\n",
       "----------\n",
       "summary : pd.DataFrame\n",
       "    The summary table of the skeleton to analyze.\n",
       "    This must contain: ['node-id-src', 'node-id-dst', 'branch-distance']\n",
       "\n",
       "Returns\n",
       "-------\n",
       "is_main: array\n",
       "   True if the index-matched path is the longest shortest path of the\n",
       "   skeleton\n",
       "\u001b[1;31mFile:\u001b[0m      c:\\users\\rober\\miniconda3\\envs\\bio_39\\lib\\site-packages\\skan\\summary_utils.py\n",
       "\u001b[1;31mType:\u001b[0m      function\n"
      ]
     },
     "metadata": {},
     "output_type": "display_data"
    }
   ],
   "source": [
    "import skan\n",
    "skan.summary_utils.find_main_branches?"
   ]
  },
  {
   "cell_type": "code",
   "execution_count": 9,
   "id": "12253bd3-c1e2-48fa-8124-72b872c55c83",
   "metadata": {},
   "outputs": [
    {
     "data": {
      "text/plain": [
       "\u001b[1;31mSignature:\u001b[0m \u001b[0mskan\u001b[0m\u001b[1;33m.\u001b[0m\u001b[0mSkeleton\u001b[0m\u001b[1;33m.\u001b[0m\u001b[0mprune_paths\u001b[0m\u001b[1;33m(\u001b[0m\u001b[0mself\u001b[0m\u001b[1;33m,\u001b[0m \u001b[0mindices\u001b[0m\u001b[1;33m)\u001b[0m \u001b[1;33m->\u001b[0m \u001b[1;34m'Skeleton'\u001b[0m\u001b[1;33m\u001b[0m\u001b[1;33m\u001b[0m\u001b[0m\n",
       "\u001b[1;31mDocstring:\u001b[0m <no docstring>\n",
       "\u001b[1;31mFile:\u001b[0m      c:\\users\\rober\\miniconda3\\envs\\bio_39\\lib\\site-packages\\skan\\csr.py\n",
       "\u001b[1;31mType:\u001b[0m      function\n"
      ]
     },
     "metadata": {},
     "output_type": "display_data"
    }
   ],
   "source": [
    "skan.Skeleton.prune_paths?"
   ]
  },
  {
   "cell_type": "code",
   "execution_count": 10,
   "id": "590d484e-1578-4615-9ae4-4a5ae58ac8ff",
   "metadata": {},
   "outputs": [
    {
     "name": "stderr",
     "output_type": "stream",
     "text": [
      "C:\\Users\\rober\\miniconda3\\envs\\bio_39\\lib\\site-packages\\skimage\\io\\_plugins\\matplotlib_plugin.py:150: UserWarning: Float image out of standard range; displaying image with stretched contrast.\n",
      "  lo, hi, cmap = _get_display_range(image)\n"
     ]
    },
    {
     "data": {
      "text/plain": [
       "<matplotlib.image.AxesImage at 0x1bebadfbe50>"
      ]
     },
     "execution_count": 10,
     "metadata": {},
     "output_type": "execute_result"
    },
    {
     "data": {
      "image/png": "[encoded data removed]",
      "text/plain": [
       "<Figure size 432x288 with 2 Axes>"
      ]
     },
     "metadata": {
      "needs_background": "light"
     },
     "output_type": "display_data"
    }
   ],
   "source": [
    "path_lengths_image = path_length_image(image)\n",
    "imshow(path_lengths_image)"
   ]
  },
  {
   "cell_type": "code",
   "execution_count": 11,
   "id": "4b1329d8-0a0c-4d90-adaf-4cf66469bcee",
   "metadata": {},
   "outputs": [
    {
     "ename": "NameError",
     "evalue": "name 'image_to_skeleton' is not defined",
     "output_type": "error",
     "traceback": [
      "\u001b[1;31m---------------------------------------------------------------------------\u001b[0m",
      "\u001b[1;31mNameError\u001b[0m                                 Traceback (most recent call last)",
      "Input \u001b[1;32mIn [11]\u001b[0m, in \u001b[0;36m<cell line: 25>\u001b[1;34m()\u001b[0m\n\u001b[0;32m     21\u001b[0m             networkx_graph\u001b[38;5;241m.\u001b[39mnodes[n][\u001b[38;5;124m'\u001b[39m\u001b[38;5;124mpos\u001b[39m\u001b[38;5;124m'\u001b[39m] \u001b[38;5;241m=\u001b[39m np\u001b[38;5;241m.\u001b[39masarray(centroid_positions[n])\n\u001b[0;32m     23\u001b[0m     \u001b[38;5;28;01mreturn\u001b[39;00m networkx_graph\n\u001b[1;32m---> 25\u001b[0m nxg \u001b[38;5;241m=\u001b[39m _skeleton_to_networkx(\u001b[43mimage_to_skeleton\u001b[49m(image))\n\u001b[0;32m     26\u001b[0m nxg\n",
      "\u001b[1;31mNameError\u001b[0m: name 'image_to_skeleton' is not defined"
     ]
    }
   ],
   "source": [
    "\n",
    "def _skeleton_to_networkx(skeleton: skan.Skeleton) -> \"networkx.Graph\":\n",
    "    \"\"\"\n",
    "    Converts a skeleton to a networkx graph\n",
    "    \n",
    "    See Also\n",
    "    --------\n",
    "    ..[1] https://networkx.org/documentation/stable/reference/generated/networkx.convert_matrix.from_numpy_matrix.html\n",
    "    \"\"\"\n",
    "    import networkx\n",
    "    cs_graph = skeleton_to_csgraph(skeleton.skeleton_image)\n",
    "\n",
    "    adjacency_matrix = cs_graph[0]\n",
    "    centroids = cs_graph[1]\n",
    "        \n",
    "    networkx_graph = networkx.from_scipy_sparse_array(adjacency_matrix)\n",
    "\n",
    "    if centroids is not None:\n",
    "        centroid_positions = centroids\n",
    "\n",
    "        for n in range(len(networkx_graph.nodes)):\n",
    "            networkx_graph.nodes[n]['pos'] = np.asarray(centroid_positions[n])\n",
    "\n",
    "    return networkx_graph\n",
    "\n",
    "nxg = _skeleton_to_networkx(image_to_skeleton(image))\n",
    "nxg"
   ]
  },
  {
   "cell_type": "code",
   "execution_count": null,
   "id": "3a443638-ae9b-4087-9908-6b4c9bcf413a",
   "metadata": {},
   "outputs": [],
   "source": []
  }
 ],
 "metadata": {
  "kernelspec": {
   "display_name": "Python 3 (ipykernel)",
   "language": "python",
   "name": "python3"
  },
  "language_info": {
   "codemirror_mode": {
    "name": "ipython",
    "version": 3
   },
   "file_extension": ".py",
   "mimetype": "text/x-python",
   "name": "python",
   "nbconvert_exporter": "python",
   "pygments_lexer": "ipython3",
   "version": "3.9.13"
  }
 },
 "nbformat": 4,
 "nbformat_minor": 5
}
